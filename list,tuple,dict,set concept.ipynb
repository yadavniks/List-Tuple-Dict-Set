{
 "cells": [
  {
   "cell_type": "code",
   "execution_count": null,
   "id": "d30f091d-35fb-41a2-8060-5f6640738e40",
   "metadata": {},
   "outputs": [],
   "source": [
    "#List\n",
    "# Ordered and indexed.\n",
    "# Allows duplicate elements.\n",
    "# Elements can be modified (mutable).\n",
    "# Supports multiple data types.\n",
    "# Methods: append(), extend(), insert(), remove(), pop(), reverse(), sort() etc."
   ]
  },
  {
   "cell_type": "code",
   "execution_count": 25,
   "id": "019ec34b-2fee-4e2d-b7d3-b325a8c3ea06",
   "metadata": {},
   "outputs": [
    {
     "data": {
      "text/plain": [
       "[23, 64, 37, 86, 56]"
      ]
     },
     "execution_count": 25,
     "metadata": {},
     "output_type": "execute_result"
    }
   ],
   "source": [
    "#list in python\n",
    "marks=[23,64,37,86,56]\n",
    "marks"
   ]
  },
  {
   "cell_type": "code",
   "execution_count": 22,
   "id": "7ed2bdba-f6d6-45f7-932a-f8c76c6ea5d9",
   "metadata": {},
   "outputs": [
    {
     "name": "stdout",
     "output_type": "stream",
     "text": [
      "<class 'list'>\n"
     ]
    }
   ],
   "source": [
    "print(type(marks))"
   ]
  },
  {
   "cell_type": "code",
   "execution_count": 23,
   "id": "a8cc2765-6037-4550-8f82-7aa237100b41",
   "metadata": {},
   "outputs": [
    {
     "data": {
      "text/plain": [
       "5"
      ]
     },
     "execution_count": 23,
     "metadata": {},
     "output_type": "execute_result"
    }
   ],
   "source": [
    "len(marks)#return lenght of list "
   ]
  },
  {
   "cell_type": "code",
   "execution_count": 24,
   "id": "d05eead7-6921-476f-baba-c8653c02ac38",
   "metadata": {},
   "outputs": [
    {
     "data": {
      "text/plain": [
       "[23, 37, 56, 64, 86]"
      ]
     },
     "execution_count": 24,
     "metadata": {},
     "output_type": "execute_result"
    }
   ],
   "source": [
    "mark=sorted(marks) #there is sort of marks but after print marks not dispaly sorted its tempolary marks sort\n",
    "                    #create another list origanal list \n",
    "mark"
   ]
  },
  {
   "cell_type": "code",
   "execution_count": 25,
   "id": "e542c5f3-269d-4ed0-9519-48496a25e1bb",
   "metadata": {},
   "outputs": [
    {
     "data": {
      "text/plain": [
       "[23, 64, 37, 86, 56]"
      ]
     },
     "execution_count": 25,
     "metadata": {},
     "output_type": "execute_result"
    }
   ],
   "source": [
    "marks"
   ]
  },
  {
   "cell_type": "code",
   "execution_count": 26,
   "id": "f69a5045-3258-45a0-9ec1-14d131419008",
   "metadata": {},
   "outputs": [
    {
     "data": {
      "text/plain": [
       "[23, 37, 56, 64, 86]"
      ]
     },
     "execution_count": 26,
     "metadata": {},
     "output_type": "execute_result"
    }
   ],
   "source": [
    "marks.sort()#this method use sort origanal marks list its not tempolary modifies original list\n",
    "marks"
   ]
  },
  {
   "cell_type": "code",
   "execution_count": 27,
   "id": "0f7b0aae-215d-4528-b93c-f63e69b0855c",
   "metadata": {},
   "outputs": [
    {
     "data": {
      "text/plain": [
       "[23, 37, 56, 64, 86]"
      ]
     },
     "execution_count": 27,
     "metadata": {},
     "output_type": "execute_result"
    }
   ],
   "source": [
    "marks"
   ]
  },
  {
   "cell_type": "code",
   "execution_count": 28,
   "id": "ea1f4358-ad8d-4355-bcff-adbf509d8554",
   "metadata": {},
   "outputs": [
    {
     "data": {
      "text/plain": [
       "[86, 64, 56, 37, 23]"
      ]
     },
     "execution_count": 28,
     "metadata": {},
     "output_type": "execute_result"
    }
   ],
   "source": [
    "marks.sort(reverse=True)#decending order\n",
    "marks"
   ]
  },
  {
   "cell_type": "code",
   "execution_count": 29,
   "id": "487ae0db-c9b3-4533-ab39-f73388a919be",
   "metadata": {},
   "outputs": [
    {
     "data": {
      "text/plain": [
       "[10, 20, 30, 40]"
      ]
     },
     "execution_count": 29,
     "metadata": {},
     "output_type": "execute_result"
    }
   ],
   "source": [
    "marks=[10,20,30,40]\n",
    "marks"
   ]
  },
  {
   "cell_type": "code",
   "execution_count": 30,
   "id": "1b4bce95-2c91-41ec-9d5b-bde4ed0800a4",
   "metadata": {},
   "outputs": [
    {
     "data": {
      "text/plain": [
       "1"
      ]
     },
     "execution_count": 30,
     "metadata": {},
     "output_type": "execute_result"
    }
   ],
   "source": [
    "marks.count(30) #how many time entire no"
   ]
  },
  {
   "cell_type": "code",
   "execution_count": 31,
   "id": "1096625d-0518-46e3-905f-90c7e8387907",
   "metadata": {},
   "outputs": [
    {
     "data": {
      "text/plain": [
       "[10, 20, 30, 40, 50]"
      ]
     },
     "execution_count": 31,
     "metadata": {},
     "output_type": "execute_result"
    }
   ],
   "source": [
    "marks.append(50)#add the element\n",
    "marks"
   ]
  },
  {
   "cell_type": "code",
   "execution_count": 32,
   "id": "87a19278-00bb-409f-aff1-964258667a01",
   "metadata": {},
   "outputs": [
    {
     "name": "stdout",
     "output_type": "stream",
     "text": [
      "[50, 40, 30, 20, 10]\n"
     ]
    }
   ],
   "source": [
    "marks.reverse()#\n",
    "print(marks)"
   ]
  },
  {
   "cell_type": "code",
   "execution_count": 14,
   "id": "689b2a95-7acc-425b-9046-8a5616d5e69a",
   "metadata": {},
   "outputs": [
    {
     "data": {
      "text/plain": [
       "[40, 30, 20, 10, 40, 30, 20, 10, 40, 30, 20, 10]"
      ]
     },
     "execution_count": 14,
     "metadata": {},
     "output_type": "execute_result"
    }
   ],
   "source": [
    "marks*3 #repetition of list 3 times"
   ]
  },
  {
   "cell_type": "code",
   "execution_count": 33,
   "id": "1b5e4607-72a2-40c4-a30f-b1722455d6c6",
   "metadata": {},
   "outputs": [
    {
     "data": {
      "text/plain": [
       "[10, 20, 30, 70, 80, 90]"
      ]
     },
     "execution_count": 33,
     "metadata": {},
     "output_type": "execute_result"
    }
   ],
   "source": [
    "list1=[10,20,30]\n",
    "list2=[70,80,90]\n",
    "list1+list2 #concatenation of two lists that is marge two list"
   ]
  },
  {
   "cell_type": "code",
   "execution_count": 34,
   "id": "b1c315b6-167c-4d19-9797-f1e550955b8b",
   "metadata": {},
   "outputs": [
    {
     "data": {
      "text/plain": [
       "[10, 20, 30, 70, 80, 90, 10, 20, 30, 70, 80, 90, 10, 20, 30, 70, 80, 90]"
      ]
     },
     "execution_count": 34,
     "metadata": {},
     "output_type": "execute_result"
    }
   ],
   "source": [
    "(list1+list2)*3 #concatenation list return 3 times"
   ]
  },
  {
   "cell_type": "code",
   "execution_count": 24,
   "id": "05328acd-6c4d-4ccc-b8a6-3b38d27af27d",
   "metadata": {},
   "outputs": [
    {
     "data": {
      "text/plain": [
       "[11, 21, 31, 41, 51]"
      ]
     },
     "execution_count": 24,
     "metadata": {},
     "output_type": "execute_result"
    }
   ],
   "source": [
    "marks=[11,21,31,41,51]\n",
    "marks"
   ]
  },
  {
   "cell_type": "code",
   "execution_count": 47,
   "id": "bb56d229-4785-46fd-a0b8-9753bf890ad3",
   "metadata": {},
   "outputs": [
    {
     "data": {
      "text/plain": [
       "41"
      ]
     },
     "execution_count": 47,
     "metadata": {},
     "output_type": "execute_result"
    }
   ],
   "source": [
    "#Indexing starts with 0\n",
    "marks[3] #indexing 0,1,2,3=41"
   ]
  },
  {
   "cell_type": "code",
   "execution_count": 36,
   "id": "09f1ef43-bc38-43e5-8186-9e0199eb5bf8",
   "metadata": {},
   "outputs": [
    {
     "data": {
      "text/plain": [
       "51"
      ]
     },
     "execution_count": 36,
     "metadata": {},
     "output_type": "execute_result"
    }
   ],
   "source": [
    "marks[4]#0,1,2,3,4,=51"
   ]
  },
  {
   "cell_type": "code",
   "execution_count": 23,
   "id": "f742cf2b-6462-45e2-991c-dcb67d34545b",
   "metadata": {},
   "outputs": [
    {
     "data": {
      "text/plain": [
       "[21, 61, 41]"
      ]
     },
     "execution_count": 23,
     "metadata": {},
     "output_type": "execute_result"
    }
   ],
   "source": [
    "#slicing\n",
    "marks[1:4] # start in 1 index and of 4-1 mean 3 index that is 1,2,3\n"
   ]
  },
  {
   "cell_type": "code",
   "execution_count": 22,
   "id": "38e71c00-2bbd-4f40-ac33-dbbe4120b2b7",
   "metadata": {},
   "outputs": [
    {
     "data": {
      "text/plain": [
       "[61, 41, 51]"
      ]
     },
     "execution_count": 22,
     "metadata": {},
     "output_type": "execute_result"
    }
   ],
   "source": [
    "marks[2:]#start index 2 and end of list that mean len(marks)"
   ]
  },
  {
   "cell_type": "code",
   "execution_count": 21,
   "id": "0d2d2915-c1d3-4b3a-a459-4ef0492c2d18",
   "metadata": {},
   "outputs": [
    {
     "data": {
      "text/plain": [
       "[11, 21]"
      ]
     },
     "execution_count": 21,
     "metadata": {},
     "output_type": "execute_result"
    }
   ],
   "source": [
    "marks[:2]#start indexing in 0 and end of 2"
   ]
  },
  {
   "cell_type": "code",
   "execution_count": 20,
   "id": "c5250497-7d92-4dae-844f-8552c6369bf3",
   "metadata": {},
   "outputs": [
    {
     "data": {
      "text/plain": [
       "[11, 21, 61, 41, 51]"
      ]
     },
     "execution_count": 20,
     "metadata": {},
     "output_type": "execute_result"
    }
   ],
   "source": [
    "marks"
   ]
  },
  {
   "cell_type": "code",
   "execution_count": 40,
   "id": "1a8f7122-f41f-4448-85d4-d1902d78a01e",
   "metadata": {},
   "outputs": [
    {
     "data": {
      "text/plain": [
       "51"
      ]
     },
     "execution_count": 40,
     "metadata": {},
     "output_type": "execute_result"
    }
   ],
   "source": [
    "#Negative indexing\n",
    "marks[-1] # negative index start with -1 in last element of list "
   ]
  },
  {
   "cell_type": "code",
   "execution_count": 41,
   "id": "881caad0-166f-4a04-8bfb-6957a22cc196",
   "metadata": {},
   "outputs": [
    {
     "data": {
      "text/plain": [
       "21"
      ]
     },
     "execution_count": 41,
     "metadata": {},
     "output_type": "execute_result"
    }
   ],
   "source": [
    "marks[-4]#-1,-2,-3,-4 = 21"
   ]
  },
  {
   "cell_type": "code",
   "execution_count": 42,
   "id": "0a1d0365-18b0-4bb0-9774-fa7d00324d63",
   "metadata": {},
   "outputs": [
    {
     "data": {
      "text/plain": [
       "[10, 20, 30, 40, 50, 60, 70, 80, 90]"
      ]
     },
     "execution_count": 42,
     "metadata": {},
     "output_type": "execute_result"
    }
   ],
   "source": [
    "numbers=[10,20,30,40,50,60,70,80,90]\n",
    "numbers[::]  #same as number"
   ]
  },
  {
   "cell_type": "code",
   "execution_count": 43,
   "id": "2d38bac3-a543-427a-a63e-27d990f59d92",
   "metadata": {},
   "outputs": [
    {
     "data": {
      "text/plain": [
       "[20, 40, 60]"
      ]
     },
     "execution_count": 43,
     "metadata": {},
     "output_type": "execute_result"
    }
   ],
   "source": [
    "#[start:Stop:Step]\n",
    "numbers[1:7:2]  #there is start indexing 1 and stop indexing 7 with in gap 2 number"
   ]
  },
  {
   "cell_type": "code",
   "execution_count": 44,
   "id": "8e6bf7de-ea3d-4c5c-a86f-4e18325c6fea",
   "metadata": {},
   "outputs": [
    {
     "data": {
      "text/plain": [
       "[16, 49, 9, 25, 81]"
      ]
     },
     "execution_count": 44,
     "metadata": {},
     "output_type": "execute_result"
    }
   ],
   "source": [
    "#list Comprehension\n",
    "numbers=[4,7,3,5,9]\n",
    "newlist=[n**2 for n in numbers] #return sequre root of each no of list\n",
    "newlist"
   ]
  },
  {
   "cell_type": "code",
   "execution_count": 45,
   "id": "2fe51668-acd5-4c18-aac0-fdc31ca97462",
   "metadata": {},
   "outputs": [
    {
     "data": {
      "text/plain": [
       "[8, 14, 6, 10, 18]"
      ]
     },
     "execution_count": 45,
     "metadata": {},
     "output_type": "execute_result"
    }
   ],
   "source": [
    "newlist2=[n*2 for n in numbers]\n",
    "newlist2  # each no multiplay by 2"
   ]
  },
  {
   "cell_type": "code",
   "execution_count": 17,
   "id": "9e1e3c50-42c9-4123-a5a7-ce1d23085400",
   "metadata": {},
   "outputs": [
    {
     "data": {
      "text/plain": [
       "[11, 21, 31, 41, 51]"
      ]
     },
     "execution_count": 17,
     "metadata": {},
     "output_type": "execute_result"
    }
   ],
   "source": [
    "marks   #recentaly print marks list its disply here"
   ]
  },
  {
   "cell_type": "code",
   "execution_count": 19,
   "id": "f152567f-a1c9-4153-9b31-792bb6efedea",
   "metadata": {},
   "outputs": [
    {
     "data": {
      "text/plain": [
       "[11, 21, 61, 41, 51]"
      ]
     },
     "execution_count": 19,
     "metadata": {},
     "output_type": "execute_result"
    }
   ],
   "source": [
    "marks[2]=61  # list are mutable list can change using indexing\n",
    "marks"
   ]
  },
  {
   "cell_type": "code",
   "execution_count": null,
   "id": "a6d38e95-854b-4ef1-b6f3-e07e869cfd96",
   "metadata": {},
   "outputs": [],
   "source": [
    "#Tuple\n",
    "# Ordered and indexed.\n",
    "# Allows duplicates.\n",
    "# Immutable (cannot change elements after creation).\n",
    "# Supports multiple data types.\n",
    "# Faster than lists due to immutability.\n",
    "# Methods: Only count() and index()."
   ]
  },
  {
   "cell_type": "code",
   "execution_count": 48,
   "id": "9f6f191b-bc26-44ce-8362-666b3b66b813",
   "metadata": {},
   "outputs": [
    {
     "data": {
      "text/plain": [
       "(12, 90, 50, 96, 87)"
      ]
     },
     "execution_count": 48,
     "metadata": {},
     "output_type": "execute_result"
    }
   ],
   "source": [
    "#Tuples\n",
    "tuple=(12,90,50,96,87) #Tuple closed in parenthesies bracket \n",
    "tuple      #tuple is immutable it can not be change"
   ]
  },
  {
   "cell_type": "code",
   "execution_count": null,
   "id": "60263f85-dc4e-4909-99df-24abedd03a99",
   "metadata": {},
   "outputs": [],
   "source": [
    "# Collection of key-value pairs.\n",
    "# Ordered as of Python 3.7+.\n",
    "# Keys must be unique.\n",
    "# Values can be of any type.\n",
    "# Mutable.\n",
    "# Methods: keys(), values(), items(), get(), pop(), update(), clear()\n",
    "\n"
   ]
  },
  {
   "cell_type": "code",
   "execution_count": 2,
   "id": "006dd71c-0ab6-488f-ba18-ee69eba5340c",
   "metadata": {},
   "outputs": [
    {
     "data": {
      "text/plain": [
       "{42: 'mouse', 21: 'keyboard', 77: 'Monitor', 71: 'Earphone'}"
      ]
     },
     "execution_count": 2,
     "metadata": {},
     "output_type": "execute_result"
    }
   ],
   "source": [
    "#Dictionary(key-value pairs)\n",
    "mydict={42:'mouse',\n",
    "       21:'keyboard', #store the key values pairs\n",
    "       77:'Monitor',\n",
    "       71:'Earphone',}\n",
    "mydict"
   ]
  },
  {
   "cell_type": "code",
   "execution_count": 5,
   "id": "a68ac648-2516-4ab3-ab66-83e215549759",
   "metadata": {},
   "outputs": [
    {
     "data": {
      "text/plain": [
       "'Monitor'"
      ]
     },
     "execution_count": 5,
     "metadata": {},
     "output_type": "execute_result"
    }
   ],
   "source": [
    "mydict[77] #return the corresponding values"
   ]
  },
  {
   "cell_type": "code",
   "execution_count": 6,
   "id": "2379b91c-78f4-465a-83d1-4e5178feceda",
   "metadata": {},
   "outputs": [
    {
     "data": {
      "text/plain": [
       "dict_keys([42, 21, 77, 71])"
      ]
     },
     "execution_count": 6,
     "metadata": {},
     "output_type": "execute_result"
    }
   ],
   "source": [
    "mydict.keys() #return the all key values"
   ]
  },
  {
   "cell_type": "code",
   "execution_count": 7,
   "id": "a0efa762-0340-40a7-b03a-cae8966922fe",
   "metadata": {},
   "outputs": [
    {
     "data": {
      "text/plain": [
       "dict_values(['mouse', 'keyboard', 'Monitor', 'Earphone'])"
      ]
     },
     "execution_count": 7,
     "metadata": {},
     "output_type": "execute_result"
    }
   ],
   "source": [
    "mydict.values() #return the all values"
   ]
  },
  {
   "cell_type": "code",
   "execution_count": 8,
   "id": "7fb4e5c0-a346-42d9-a5a2-8a887322879e",
   "metadata": {},
   "outputs": [
    {
     "data": {
      "text/plain": [
       "dict_items([(42, 'mouse'), (21, 'keyboard'), (77, 'Monitor'), (71, 'Earphone')])"
      ]
     },
     "execution_count": 8,
     "metadata": {},
     "output_type": "execute_result"
    }
   ],
   "source": [
    "mydict.items() "
   ]
  },
  {
   "cell_type": "code",
   "execution_count": 26,
   "id": "12974190-b3a9-45b0-9b24-3aeaf302dde5",
   "metadata": {},
   "outputs": [
    {
     "data": {
      "text/plain": [
       "{'A': 'marks',\n",
       " 'B': 'mytuple',\n",
       " 'C': [25, 26, 27, 28, 29, 30, 31, 32, 33, 34],\n",
       " 'D': 6.17}"
      ]
     },
     "execution_count": 26,
     "metadata": {},
     "output_type": "execute_result"
    }
   ],
   "source": [
    "newdict={'A':'marks',\n",
    "         'B':'mytuple',\n",
    "         'C':list(range(25,35)),\n",
    "         'D':6.17}\n",
    "newdict\n",
    "         "
   ]
  },
  {
   "cell_type": "code",
   "execution_count": 27,
   "id": "e90b684c-64fb-424d-8d07-4707c95309b5",
   "metadata": {},
   "outputs": [
    {
     "data": {
      "text/plain": [
       "'marks'"
      ]
     },
     "execution_count": 27,
     "metadata": {},
     "output_type": "execute_result"
    }
   ],
   "source": [
    "newdict['A']"
   ]
  },
  {
   "cell_type": "code",
   "execution_count": null,
   "id": "466732b0-d096-47ff-af3c-f4b4f2eb62d1",
   "metadata": {},
   "outputs": [],
   "source": [
    "#Set\n",
    "#Set in python well define object\n",
    "#set is close in curly brackets{}\n",
    "#set is not get duplicate values\n",
    "#set not contain order element(unorderd) and (unindexed)\n",
    "#set is mutable\n",
    "#Methods: add(), remove(), discard(), clear(), union(), intersection(), difference()"
   ]
  },
  {
   "cell_type": "code",
   "execution_count": 33,
   "id": "fadaf554-3b45-4f1e-bd69-75554409e6c2",
   "metadata": {},
   "outputs": [
    {
     "data": {
      "text/plain": [
       "{10, 20, 30, 40}"
      ]
     },
     "execution_count": 33,
     "metadata": {},
     "output_type": "execute_result"
    }
   ],
   "source": [
    "set={10,20,30,40}\n",
    "set            #set is close in curly brackets{}"
   ]
  },
  {
   "cell_type": "code",
   "execution_count": 31,
   "id": "0732e01c-4b82-477e-8d0e-a59d39a9292b",
   "metadata": {},
   "outputs": [
    {
     "data": {
      "text/plain": [
       "{2, 8, 9, 10, 20}"
      ]
     },
     "execution_count": 31,
     "metadata": {},
     "output_type": "execute_result"
    }
   ],
   "source": [
    "set={2,8,9,20,10,20}\n",
    "set          #set is not allow duplicate values"
   ]
  },
  {
   "cell_type": "code",
   "execution_count": 34,
   "id": "2bc75f34-e909-49f6-80d4-6d9eddfc29f1",
   "metadata": {},
   "outputs": [
    {
     "data": {
      "text/plain": [
       "{2025, 22, 'BCS', 'Nikita', True}"
      ]
     },
     "execution_count": 34,
     "metadata": {},
     "output_type": "execute_result"
    }
   ],
   "source": [
    "set1={\"Nikita\",22,\"BCS\",2025,True}\n",
    "set1         #set is unorderd"
   ]
  },
  {
   "cell_type": "code",
   "execution_count": 48,
   "id": "f3a9e66c-4773-407f-8bc0-d701ef3356a8",
   "metadata": {},
   "outputs": [],
   "source": [
    "#set={ }             #that is there use {} I try to create empty set its not be done its create dictionary\n",
    "#print(type(set)) "
   ]
  },
  {
   "cell_type": "code",
   "execution_count": 51,
   "id": "cf7fbb63-8146-4e87-a8ae-1e1c9bb1050f",
   "metadata": {},
   "outputs": [
    {
     "ename": "TypeError",
     "evalue": "'dict' object is not callable",
     "output_type": "error",
     "traceback": [
      "\u001b[1;31m---------------------------------------------------------------------------\u001b[0m",
      "\u001b[1;31mTypeError\u001b[0m                                 Traceback (most recent call last)",
      "Cell \u001b[1;32mIn[51], line 1\u001b[0m\n\u001b[1;32m----> 1\u001b[0m harry \u001b[38;5;241m=\u001b[39m \u001b[38;5;28mset\u001b[39m()\n\u001b[0;32m      2\u001b[0m \u001b[38;5;28mprint\u001b[39m(\u001b[38;5;28mtype\u001b[39m(harry))\n",
      "\u001b[1;31mTypeError\u001b[0m: 'dict' object is not callable"
     ]
    }
   ],
   "source": [
    "harry = set()\n",
    "print(type(harry)) #This means somewhere earlier in your code"
   ]
  },
  {
   "cell_type": "code",
   "execution_count": 52,
   "id": "92706f5f-d0a2-43bb-bbb6-873234a8a7c7",
   "metadata": {},
   "outputs": [],
   "source": [
    "del set"
   ]
  },
  {
   "cell_type": "code",
   "execution_count": 54,
   "id": "b87e0431-186a-4036-9086-edd69977a412",
   "metadata": {},
   "outputs": [
    {
     "name": "stdout",
     "output_type": "stream",
     "text": [
      "<class 'set'>\n"
     ]
    }
   ],
   "source": [
    "harry = set() #its create a empty set\n",
    "print(type(harry))"
   ]
  },
  {
   "cell_type": "code",
   "execution_count": 55,
   "id": "8c4c00d4-1869-4f35-ac9c-750a2659dd7c",
   "metadata": {},
   "outputs": [
    {
     "name": "stdout",
     "output_type": "stream",
     "text": [
      "True\n",
      "Nikita\n",
      "22\n",
      "2025\n",
      "BCS\n"
     ]
    }
   ],
   "source": [
    "for value in set1:\n",
    "    print(value) #accese using loop"
   ]
  },
  {
   "cell_type": "code",
   "execution_count": null,
   "id": "f918314b-6a90-4cc9-a25b-7d98c4add6a7",
   "metadata": {},
   "outputs": [],
   "source": []
  }
 ],
 "metadata": {
  "kernelspec": {
   "display_name": "Python 3 (ipykernel)",
   "language": "python",
   "name": "python3"
  },
  "language_info": {
   "codemirror_mode": {
    "name": "ipython",
    "version": 3
   },
   "file_extension": ".py",
   "mimetype": "text/x-python",
   "name": "python",
   "nbconvert_exporter": "python",
   "pygments_lexer": "ipython3",
   "version": "3.12.7"
  }
 },
 "nbformat": 4,
 "nbformat_minor": 5
}
